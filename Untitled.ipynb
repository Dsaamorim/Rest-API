{
 "cells": [
  {
   "cell_type": "code",
   "execution_count": 36,
   "id": "924a3745",
   "metadata": {},
   "outputs": [],
   "source": [
    "#CRIAR API É SITE\n",
    "#CRIAÇÂO DE MICROSERVIÇOS É CRIAR API\n",
    "#A MESMA FORMA DE CRIAR UM SITE SERVE PARA API\n",
    "#PARA COLOCAR API NO AR QUE HOSPEDAR NUM SERVIDOR \n",
    "#API É UM MICROSITE\n",
    "\n",
    "import requests\n",
    "link = \"https://KnowingKlutzyDaemon.dsaamorim.repl.co/vendas/produtos/Calça\"\n",
    "requisicao = requests.get(link)"
   ]
  },
  {
   "cell_type": "code",
   "execution_count": 37,
   "id": "6fcfb3aa",
   "metadata": {},
   "outputs": [
    {
     "name": "stdout",
     "output_type": "stream",
     "text": [
      "{'Valor Final': 23120}\n"
     ]
    }
   ],
   "source": [
    "print(requisicao.json())\n"
   ]
  },
  {
   "cell_type": "code",
   "execution_count": null,
   "id": "4c344cae",
   "metadata": {},
   "outputs": [
    {
     "name": "stdout",
     "output_type": "stream",
     "text": [
      " * Serving Flask app \"__main__\" (lazy loading)\n",
      " * Environment: production\n",
      "   WARNING: This is a development server. Do not use it in a production deployment.\n",
      "   Use a production WSGI server instead.\n",
      " * Debug mode: off\n"
     ]
    },
    {
     "name": "stderr",
     "output_type": "stream",
     "text": [
      " * Running on http://127.0.0.1:5000/ (Press CTRL+C to quit)\n",
      "127.0.0.1 - - [31/Jul/2021 14:03:49] \"\u001b[37mGET / HTTP/1.1\u001b[0m\" 200 -\n",
      "127.0.0.1 - - [31/Jul/2021 14:04:33] \"\u001b[37mGET /douglas HTTP/1.1\u001b[0m\" 200 -\n"
     ]
    }
   ],
   "source": [
    "from flask import Flask\n",
    "\n",
    "app = Flask(__name__) #cria o site\n",
    "\n",
    "@app.route(\"/\") #decorator -> diz em qual link a função vai rodar\n",
    "def hello_world(): #função\n",
    "    return {\"douglas\":\"bravo\"}\n",
    "\n",
    "@app.route(\"/douglasmaroto\") #decorator -> diz em qual link a função vai rodar\n",
    "def douglas(): #função\n",
    "    return {\"douglas\":\"maroto\"}\n",
    "\n",
    "@app.route(\"/douglas\") #decorator -> diz em qual link a função vai rodar\n",
    "def dictionary(): #função\n",
    "    return {\"pessoal\":\"Bravo\",\"Nao Desista\":\"douglas\"}\n",
    "\n",
    "#Jogar o site no ar\n",
    "app.run()"
   ]
  },
  {
   "cell_type": "code",
   "execution_count": null,
   "id": "3677e74e",
   "metadata": {},
   "outputs": [],
   "source": []
  }
 ],
 "metadata": {
  "kernelspec": {
   "display_name": "Python 3",
   "language": "python",
   "name": "python3"
  },
  "language_info": {
   "codemirror_mode": {
    "name": "ipython",
    "version": 3
   },
   "file_extension": ".py",
   "mimetype": "text/x-python",
   "name": "python",
   "nbconvert_exporter": "python",
   "pygments_lexer": "ipython3",
   "version": "3.8.8"
  }
 },
 "nbformat": 4,
 "nbformat_minor": 5
}
